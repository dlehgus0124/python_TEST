{
 "cells": [
  {
   "cell_type": "code",
   "execution_count": 2,
   "metadata": {},
   "outputs": [
    {
     "name": "stdout",
     "output_type": "stream",
     "text": [
      "이름 : 트와이스\n",
      "구성원수 : 9\n",
      "데뷔 : 서바이벌 식스틴\n",
      "대표곡 : 시그널\n"
     ]
    }
   ],
   "source": [
    "singer = {}\n",
    "\n",
    "singer['이름'] = \"트와이스\"\n",
    "singer['구성원수'] = 9\n",
    "singer['데뷔'] = \"서바이벌 식스틴\"\n",
    "singer['대표곡'] = \"시그널\"\n",
    "\n",
    "for k in singer.keys():\n",
    "    print(f'{k} : {singer[k]}')"
   ]
  },
  {
   "cell_type": "code",
   "execution_count": 12,
   "metadata": {},
   "outputs": [
    {
     "name": "stdout",
     "output_type": "stream",
     "text": [
      "rabbit1의 모양 :  원\n",
      "rabbit1의 좌표 : (10, 20)\n",
      "집토끼의 주인 : 이도현\n",
      "집토끼가 오이를 먹습니다\n",
      "rabbit2의 모양 :  삼각형\n",
      "rabbit2의 좌표 : (30, 40)\n",
      "산토끼의 산 : 에베레스트 산\n",
      "산토끼가 풀을 뜯어먹습니다\n",
      "rabbit3의 모양 :  토끼\n",
      "rabbit3의 좌표 : (50, 60)\n"
     ]
    }
   ],
   "source": [
    "class Rabbit :\n",
    "    shape = \"\"\n",
    "    xPos = 0\n",
    "    yPos = 0\n",
    "\n",
    "    def __init__(self, value) :\n",
    "        self.shape = value\n",
    "    \n",
    "    def goto(self, x, y) :\n",
    "        self.xPos = x\n",
    "        self.yPos = y\n",
    "\n",
    "class HouseRabbit(Rabbit):\n",
    "    owner = \"\"\n",
    "    def eatFood(self) :\n",
    "        print(\"집토끼가 오이를 먹습니다\")\n",
    "\n",
    "class MoubtainRabbit(Rabbit):\n",
    "    mountain = \"\"\n",
    "    def eatWildGrass(self) :\n",
    "        print(\"산토끼가 풀을 뜯어먹습니다\")\n",
    "\n",
    "rabbit1 = Rabbit(\"원\")\n",
    "rabbit1.goto(10, 20)\n",
    "print(\"rabbit1의 모양 : \", rabbit1.shape)\n",
    "print(f\"rabbit1의 좌표 : ({rabbit1.xPos}, {rabbit1.yPos})\")\n",
    "\n",
    "HouseRabbit.owner = \"이도현\"\n",
    "print(f\"집토끼의 주인 : {HouseRabbit.owner}\")\n",
    "HouseRabbit.eatFood(rabbit1)\n",
    "\n",
    "rabbit2 = Rabbit(\"삼각형\")\n",
    "rabbit2.goto(30, 40)\n",
    "print(\"rabbit2의 모양 : \", rabbit2.shape)\n",
    "print(f\"rabbit2의 좌표 : ({rabbit2.xPos}, {rabbit2.yPos})\")\n",
    "\n",
    "MoubtainRabbit.mountain = \"에베레스트 산\"\n",
    "print(f\"산토끼의 산 : {MoubtainRabbit.mountain}\")\n",
    "MoubtainRabbit.eatWildGrass(rabbit2)\n",
    "\n",
    "rabbit3 = Rabbit(\"토끼\")\n",
    "rabbit3.goto(50, 60)\n",
    "print(\"rabbit3의 모양 : \", rabbit3.shape)\n",
    "print(f\"rabbit3의 좌표 : ({rabbit3.xPos}, {rabbit3.yPos})\")\n"
   ]
  },
  {
   "cell_type": "code",
   "execution_count": 7,
   "metadata": {},
   "outputs": [
    {
     "data": {
      "text/plain": [
       "'goodmorning'"
      ]
     },
     "execution_count": 7,
     "metadata": {},
     "output_type": "execute_result"
    }
   ],
   "source": [
    "class MainHandler():\n",
    "    status =\"\"\n",
    "\n",
    "    def __init__(self):\n",
    "        self.status = \"ok\"\n",
    "    \n",
    "    def __repr__(self):\n",
    "        return \"MainHandler\"\n",
    "    \n",
    "    def __add__(self, other):\n",
    "        return self.status + other.status\n",
    "    \n",
    "MH1 = MainHandler()\n",
    "MH1.status = \"good\"\n",
    "MH2 = MainHandler()\n",
    "MH2.status = \"morning\"\n",
    "\n",
    "MH1.__add__(MH2)"
   ]
  }
 ],
 "metadata": {
  "kernelspec": {
   "display_name": "Python 3",
   "language": "python",
   "name": "python3"
  },
  "language_info": {
   "codemirror_mode": {
    "name": "ipython",
    "version": 3
   },
   "file_extension": ".py",
   "mimetype": "text/x-python",
   "name": "python",
   "nbconvert_exporter": "python",
   "pygments_lexer": "ipython3",
   "version": "3.12.0"
  }
 },
 "nbformat": 4,
 "nbformat_minor": 2
}
