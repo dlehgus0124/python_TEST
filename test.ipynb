{
 "cells": [
  {
   "cell_type": "code",
   "execution_count": 6,
   "metadata": {},
   "outputs": [],
   "source": [
    "import pandas as pd\n",
    "\n",
    "csv_file_path = 'Champion_list.csv'\n",
    "json_file_path = 'champion_list.json'\n",
    "\n",
    "df = pd.read_csv(csv_file_path)\n",
    "\n",
    "# 원하는 칼럼만 선택\n",
    "selected_columns_df = df[['id', 'key']]\n",
    "\n",
    "# 선택된 칼럼을 JSON 파일로 저장\n",
    "selected_columns_df.to_json(json_file_path, orient='records')"
   ]
  }
 ],
 "metadata": {
  "kernelspec": {
   "display_name": "Python 3",
   "language": "python",
   "name": "python3"
  },
  "language_info": {
   "codemirror_mode": {
    "name": "ipython",
    "version": 3
   },
   "file_extension": ".py",
   "mimetype": "text/x-python",
   "name": "python",
   "nbconvert_exporter": "python",
   "pygments_lexer": "ipython3",
   "version": "3.12.0"
  }
 },
 "nbformat": 4,
 "nbformat_minor": 2
}
